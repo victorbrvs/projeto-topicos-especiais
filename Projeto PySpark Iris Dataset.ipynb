{
 "cells": [
  {
   "cell_type": "code",
   "execution_count": 3,
   "id": "22ab5914-b4a2-4dda-898b-c595a94f3b85",
   "metadata": {},
   "outputs": [
    {
     "name": "stdout",
     "output_type": "stream",
     "text": [
      "Defaulting to user installation because normal site-packages is not writeable\n",
      "Requirement already satisfied: Pyspark in /home/paulo/.local/lib/python3.10/site-packages (3.5.0)\n",
      "Requirement already satisfied: py4j==0.10.9.7 in /home/paulo/.local/lib/python3.10/site-packages (from Pyspark) (0.10.9.7)\n",
      "Defaulting to user installation because normal site-packages is not writeable\n",
      "Requirement already satisfied: pandas in /home/paulo/.local/lib/python3.10/site-packages (2.1.1)\n",
      "Requirement already satisfied: numpy>=1.22.4 in /home/paulo/.local/lib/python3.10/site-packages (from pandas) (1.26.1)\n",
      "Requirement already satisfied: tzdata>=2022.1 in /home/paulo/.local/lib/python3.10/site-packages (from pandas) (2023.3)\n",
      "Requirement already satisfied: pytz>=2020.1 in /usr/lib/python3/dist-packages (from pandas) (2022.1)\n",
      "Requirement already satisfied: python-dateutil>=2.8.2 in /home/paulo/.local/lib/python3.10/site-packages (from pandas) (2.8.2)\n",
      "Requirement already satisfied: six>=1.5 in /usr/lib/python3/dist-packages (from python-dateutil>=2.8.2->pandas) (1.16.0)\n",
      "Defaulting to user installation because normal site-packages is not writeable\n",
      "Collecting sklearn\n",
      "  Using cached sklearn-0.0.post11.tar.gz (3.6 kB)\n",
      "  Preparing metadata (setup.py) ... \u001b[?25ldone\n",
      "\u001b[?25hBuilding wheels for collected packages: sklearn\n",
      "  Building wheel for sklearn (setup.py) ... \u001b[?25ldone\n",
      "\u001b[?25h  Created wheel for sklearn: filename=sklearn-0.0.post11-py3-none-any.whl size=2369 sha256=b5247a1d9a0255a9628fb847c982cf8adaf44457f3d13f783851bfbabf0b3b6f\n",
      "  Stored in directory: /home/paulo/.cache/pip/wheels/aa/9c/60/f67813603a52fc35057868f1aba0003cc75b72583dcaa2c341\n",
      "Successfully built sklearn\n",
      "Installing collected packages: sklearn\n",
      "Successfully installed sklearn-0.0.post11\n",
      "Defaulting to user installation because normal site-packages is not writeable\n",
      "Requirement already satisfied: scikit-learn in /home/paulo/.local/lib/python3.10/site-packages (1.3.2)\n",
      "Requirement already satisfied: numpy<2.0,>=1.17.3 in /home/paulo/.local/lib/python3.10/site-packages (from scikit-learn) (1.26.1)\n",
      "Requirement already satisfied: joblib>=1.1.1 in /home/paulo/.local/lib/python3.10/site-packages (from scikit-learn) (1.3.2)\n",
      "Requirement already satisfied: scipy>=1.5.0 in /usr/lib/python3/dist-packages (from scikit-learn) (1.8.0)\n",
      "Requirement already satisfied: threadpoolctl>=2.0.0 in /home/paulo/.local/lib/python3.10/site-packages (from scikit-learn) (3.2.0)\n",
      "Defaulting to user installation because normal site-packages is not writeable\n",
      "Requirement already satisfied: matplotlib in /usr/lib/python3/dist-packages (3.5.1)\n"
     ]
    }
   ],
   "source": [
    "#Instalar módulos necessários\n",
    "!pip install Pyspark\n",
    "!pip install pandas\n",
    "!pip install sklearn\n",
    "!pip install -U scikit-learn\n",
    "!pip install matplotlib"
   ]
  },
  {
   "cell_type": "code",
   "execution_count": 1,
   "id": "2d33e0cb-d74e-481b-a8d8-f9b5e1e5ebb2",
   "metadata": {},
   "outputs": [
    {
     "name": "stderr",
     "output_type": "stream",
     "text": [
      "/usr/lib/python3/dist-packages/scipy/__init__.py:146: UserWarning: A NumPy version >=1.17.3 and <1.25.0 is required for this version of SciPy (detected version 1.26.1\n",
      "  warnings.warn(f\"A NumPy version >={np_minversion} and <{np_maxversion}\"\n"
     ]
    }
   ],
   "source": [
    "#Importar bibliotecas a serem usadas\n",
    "import pandas            as pd\n",
    "import numpy             as np\n",
    "import matplotlib.pyplot as plt\n",
    "from pyspark.sql               import SparkSession\n",
    "from pyspark.ml.feature        import VectorAssembler\n",
    "from pyspark.ml.classification import NaiveBayes\n",
    "from pyspark.ml.evaluation     import MulticlassClassificationEvaluator\n",
    "from sklearn.datasets          import load_iris\n",
    "from sklearn.metrics           import confusion_matrix"
   ]
  },
  {
   "cell_type": "code",
   "execution_count": 6,
   "id": "fc000105-b529-4c09-877c-73c889f615f0",
   "metadata": {},
   "outputs": [],
   "source": [
    "#Iniciar sessão spark\n",
    "spark=SparkSession.builder.getOrCreate()\n"
   ]
  },
  {
   "cell_type": "code",
   "execution_count": 7,
   "id": "d76e8233-ab7d-484b-9bd7-20390ec26ac7",
   "metadata": {},
   "outputs": [
    {
     "name": "stderr",
     "output_type": "stream",
     "text": [
      "/home/paulo/.local/lib/python3.10/site-packages/pyspark/sql/pandas/conversion.py:485: FutureWarning: is_datetime64tz_dtype is deprecated and will be removed in a future version. Check `isinstance(dtype, pd.DatetimeTZDtype)` instead.\n",
      "  if should_localize and is_datetime64tz_dtype(s.dtype) and s.dt.tz is not None:\n"
     ]
    },
    {
     "name": "stdout",
     "output_type": "stream",
     "text": [
      "Dataset completo\n"
     ]
    },
    {
     "name": "stderr",
     "output_type": "stream",
     "text": [
      "[Stage 0:>                                                          (0 + 1) / 1]\r"
     ]
    },
    {
     "name": "stdout",
     "output_type": "stream",
     "text": [
      "+-----------------+----------------+-----------------+----------------+------+\n",
      "|sepal length (cm)|sepal width (cm)|petal length (cm)|petal width (cm)|target|\n",
      "+-----------------+----------------+-----------------+----------------+------+\n",
      "|              5.1|             3.5|              1.4|             0.2|     0|\n",
      "|              4.9|             3.0|              1.4|             0.2|     0|\n",
      "|              4.7|             3.2|              1.3|             0.2|     0|\n",
      "|              4.6|             3.1|              1.5|             0.2|     0|\n",
      "|              5.0|             3.6|              1.4|             0.2|     0|\n",
      "|              5.4|             3.9|              1.7|             0.4|     0|\n",
      "|              4.6|             3.4|              1.4|             0.3|     0|\n",
      "|              5.0|             3.4|              1.5|             0.2|     0|\n",
      "|              4.4|             2.9|              1.4|             0.2|     0|\n",
      "|              4.9|             3.1|              1.5|             0.1|     0|\n",
      "|              5.4|             3.7|              1.5|             0.2|     0|\n",
      "|              4.8|             3.4|              1.6|             0.2|     0|\n",
      "|              4.8|             3.0|              1.4|             0.1|     0|\n",
      "|              4.3|             3.0|              1.1|             0.1|     0|\n",
      "|              5.8|             4.0|              1.2|             0.2|     0|\n",
      "|              5.7|             4.4|              1.5|             0.4|     0|\n",
      "|              5.4|             3.9|              1.3|             0.4|     0|\n",
      "|              5.1|             3.5|              1.4|             0.3|     0|\n",
      "|              5.7|             3.8|              1.7|             0.3|     0|\n",
      "|              5.1|             3.8|              1.5|             0.3|     0|\n",
      "+-----------------+----------------+-----------------+----------------+------+\n",
      "only showing top 20 rows\n",
      "\n",
      "Schema do dataset\n",
      "root\n",
      " |-- sepal length (cm): double (nullable = true)\n",
      " |-- sepal width (cm): double (nullable = true)\n",
      " |-- petal length (cm): double (nullable = true)\n",
      " |-- petal width (cm): double (nullable = true)\n",
      " |-- target: long (nullable = true)\n",
      "\n",
      "Colunas do dataset\n"
     ]
    },
    {
     "name": "stderr",
     "output_type": "stream",
     "text": [
      "                                                                                \r"
     ]
    },
    {
     "data": {
      "text/plain": [
       "['sepal length (cm)',\n",
       " 'sepal width (cm)',\n",
       " 'petal length (cm)',\n",
       " 'petal width (cm)',\n",
       " 'target']"
      ]
     },
     "execution_count": 7,
     "metadata": {},
     "output_type": "execute_result"
    }
   ],
   "source": [
    "#Importar e exibir detalhes do dataset\n",
    "iris = load_iris(as_frame=True)\n",
    "iris = iris.frame\n",
    "iris = spark.createDataFrame(iris)\n",
    "\n",
    "print('Dataset completo')\n",
    "iris.show()\n",
    "\n",
    "print('Schema do dataset')\n",
    "iris.printSchema()\n",
    "\n",
    "print('Colunas do dataset')\n",
    "iris.columns"
   ]
  },
  {
   "cell_type": "code",
   "execution_count": 8,
   "id": "77d00507-e2d3-405b-b8d0-66ec6d4d6b0c",
   "metadata": {},
   "outputs": [
    {
     "name": "stdout",
     "output_type": "stream",
     "text": [
      "+-----------------+----------------+-----------------+----------------+------+--------------------+\n",
      "|sepal length (cm)|sepal width (cm)|petal length (cm)|petal width (cm)|target|            features|\n",
      "+-----------------+----------------+-----------------+----------------+------+--------------------+\n",
      "|              5.1|             3.5|              1.4|             0.2|     0|[5.1,3.5,1.4,0.2,...|\n",
      "|              4.9|             3.0|              1.4|             0.2|     0|[4.9,3.0,1.4,0.2,...|\n",
      "|              4.7|             3.2|              1.3|             0.2|     0|[4.7,3.2,1.3,0.2,...|\n",
      "|              4.6|             3.1|              1.5|             0.2|     0|[4.6,3.1,1.5,0.2,...|\n",
      "|              5.0|             3.6|              1.4|             0.2|     0|[5.0,3.6,1.4,0.2,...|\n",
      "|              5.4|             3.9|              1.7|             0.4|     0|[5.4,3.9,1.7,0.4,...|\n",
      "|              4.6|             3.4|              1.4|             0.3|     0|[4.6,3.4,1.4,0.3,...|\n",
      "|              5.0|             3.4|              1.5|             0.2|     0|[5.0,3.4,1.5,0.2,...|\n",
      "|              4.4|             2.9|              1.4|             0.2|     0|[4.4,2.9,1.4,0.2,...|\n",
      "|              4.9|             3.1|              1.5|             0.1|     0|[4.9,3.1,1.5,0.1,...|\n",
      "|              5.4|             3.7|              1.5|             0.2|     0|[5.4,3.7,1.5,0.2,...|\n",
      "|              4.8|             3.4|              1.6|             0.2|     0|[4.8,3.4,1.6,0.2,...|\n",
      "|              4.8|             3.0|              1.4|             0.1|     0|[4.8,3.0,1.4,0.1,...|\n",
      "|              4.3|             3.0|              1.1|             0.1|     0|[4.3,3.0,1.1,0.1,...|\n",
      "|              5.8|             4.0|              1.2|             0.2|     0|[5.8,4.0,1.2,0.2,...|\n",
      "|              5.7|             4.4|              1.5|             0.4|     0|[5.7,4.4,1.5,0.4,...|\n",
      "|              5.4|             3.9|              1.3|             0.4|     0|[5.4,3.9,1.3,0.4,...|\n",
      "|              5.1|             3.5|              1.4|             0.3|     0|[5.1,3.5,1.4,0.3,...|\n",
      "|              5.7|             3.8|              1.7|             0.3|     0|[5.7,3.8,1.7,0.3,...|\n",
      "|              5.1|             3.8|              1.5|             0.3|     0|[5.1,3.8,1.5,0.3,...|\n",
      "+-----------------+----------------+-----------------+----------------+------+--------------------+\n",
      "only showing top 20 rows\n",
      "\n"
     ]
    },
    {
     "name": "stderr",
     "output_type": "stream",
     "text": [
      "                                                                                \r"
     ]
    }
   ],
   "source": [
    "#Definir features principais\n",
    "feature_cols = ['sepal length (cm)', 'sepal width (cm)', 'petal length (cm)', 'petal width (cm)', 'target']\n",
    "featureassembler = VectorAssembler(inputCols=feature_cols, outputCol=\"features\")\n",
    "\n",
    "output = featureassembler.transform(iris)\n",
    "output.show()"
   ]
  },
  {
   "cell_type": "code",
   "execution_count": 9,
   "id": "72654999-5e2c-4699-aa64-8a0d4f38a1f3",
   "metadata": {},
   "outputs": [
    {
     "name": "stdout",
     "output_type": "stream",
     "text": [
      "Dados de treino\n",
      "+--------------------+------+\n",
      "|            Features|target|\n",
      "+--------------------+------+\n",
      "|[4.3,3.0,1.1,0.1,...|     0|\n",
      "|[4.4,2.9,1.4,0.2,...|     0|\n",
      "|[4.4,3.2,1.3,0.2,...|     0|\n",
      "|[4.5,2.3,1.3,0.3,...|     0|\n",
      "|[4.6,3.1,1.5,0.2,...|     0|\n",
      "|[4.6,3.2,1.4,0.2,...|     0|\n",
      "|[4.6,3.4,1.4,0.3,...|     0|\n",
      "|[4.6,3.6,1.0,0.2,...|     0|\n",
      "|[4.7,3.2,1.6,0.2,...|     0|\n",
      "|[4.8,3.0,1.4,0.1,...|     0|\n",
      "|[4.8,3.0,1.4,0.3,...|     0|\n",
      "|[4.9,3.1,1.5,0.2,...|     0|\n",
      "|[4.9,3.6,1.4,0.1,...|     0|\n",
      "|[5.0,3.0,1.6,0.2,...|     0|\n",
      "|[5.0,3.3,1.4,0.2,...|     0|\n",
      "|[5.0,3.4,1.5,0.2,...|     0|\n",
      "|[5.0,3.5,1.3,0.3,...|     0|\n",
      "|[5.0,3.5,1.6,0.6,...|     0|\n",
      "|[5.0,3.6,1.4,0.2,...|     0|\n",
      "|[5.1,3.3,1.7,0.5,...|     0|\n",
      "+--------------------+------+\n",
      "only showing top 20 rows\n",
      "\n",
      "Dados de teste\n",
      "+--------------------+------+\n",
      "|            Features|target|\n",
      "+--------------------+------+\n",
      "|[4.4,3.0,1.3,0.2,...|     0|\n",
      "|[4.7,3.2,1.3,0.2,...|     0|\n",
      "|[4.8,3.1,1.6,0.2,...|     0|\n",
      "|[4.8,3.4,1.6,0.2,...|     0|\n",
      "|[4.8,3.4,1.9,0.2,...|     0|\n",
      "|[4.9,3.0,1.4,0.2,...|     0|\n",
      "|[4.9,3.1,1.5,0.1,...|     0|\n",
      "|[5.0,3.2,1.2,0.2,...|     0|\n",
      "|[5.0,3.4,1.6,0.4,...|     0|\n",
      "|[5.1,3.5,1.4,0.2,...|     0|\n",
      "|[5.1,3.7,1.5,0.4,...|     0|\n",
      "|[5.1,3.8,1.6,0.2,...|     0|\n",
      "|[5.1,3.8,1.9,0.4,...|     0|\n",
      "|[5.2,3.5,1.5,0.2,...|     0|\n",
      "|[5.4,3.4,1.5,0.4,...|     0|\n",
      "|[5.4,3.9,1.7,0.4,...|     0|\n",
      "|[4.9,2.4,3.3,1.0,...|     1|\n",
      "|[5.7,2.8,4.1,1.3,...|     1|\n",
      "|[5.7,2.8,4.5,1.3,...|     1|\n",
      "|[5.8,2.7,4.1,1.0,...|     1|\n",
      "+--------------------+------+\n",
      "only showing top 20 rows\n",
      "\n"
     ]
    }
   ],
   "source": [
    "#Dividir features e target em conjuntos de treino e teste\n",
    "modeldata=output.select('Features','target')\n",
    "train_data,test_data=modeldata.randomSplit([0.75,0.25])\n",
    "\n",
    "print('Dados de treino')\n",
    "train_data.show()\n",
    "\n",
    "print('Dados de teste')\n",
    "test_data.show()"
   ]
  },
  {
   "cell_type": "code",
   "execution_count": 10,
   "id": "c05ff942-abd5-41e8-a683-d2acdcc610a2",
   "metadata": {},
   "outputs": [
    {
     "name": "stderr",
     "output_type": "stream",
     "text": [
      "                                                                                \r"
     ]
    },
    {
     "name": "stdout",
     "output_type": "stream",
     "text": [
      "Predição\n",
      "+--------------------+------+--------------------+--------------------+----------+\n",
      "|            Features|target|       rawPrediction|         probability|prediction|\n",
      "+--------------------+------+--------------------+--------------------+----------+\n",
      "|[4.4,3.0,1.3,0.2,...|     0|[-10.804703102257...|[0.79142488578750...|       0.0|\n",
      "|[4.7,3.2,1.3,0.2,...|     0|[-11.235125020098...|[0.82417363162310...|       0.0|\n",
      "|[4.8,3.1,1.6,0.2,...|     0|[-11.783344833029...|[0.78614058573924...|       0.0|\n",
      "|[4.8,3.4,1.6,0.2,...|     0|[-12.109004665000...|[0.81742311315518...|       0.0|\n",
      "|[4.8,3.4,1.9,0.2,...|     0|[-12.694672634190...|[0.78503941327652...|       0.0|\n",
      "|[4.9,3.0,1.4,0.2,...|     0|[-11.355451363977...|[0.80193207574276...|       0.0|\n",
      "|[4.9,3.1,1.5,0.1,...|     0|[-11.295525906333...|[0.82065437424569...|       0.0|\n",
      "|[5.0,3.2,1.2,0.2,...|     0|[-11.253217726895...|[0.84449867259073...|       0.0|\n",
      "|[5.0,3.4,1.6,0.4,...|     0|[-12.978617689858...|[0.78631939770656...|       0.0|\n",
      "|[5.1,3.5,1.4,0.2,...|     0|[-12.040427992723...|[0.85561213035286...|       0.0|\n",
      "|[5.1,3.7,1.5,0.4,...|     0|[-13.180159986496...|[0.83116565412505...|       0.0|\n",
      "|[5.1,3.8,1.6,0.2,...|     0|[-12.756533137487...|[0.86293382144192...|       0.0|\n",
      "|[5.1,3.8,1.9,0.4,...|     0|[-14.069603889407...|[0.80027250459721...|       0.0|\n",
      "|[5.2,3.5,1.5,0.2,...|     0|[-12.306755770185...|[0.85040092739362...|       0.0|\n",
      "|[5.4,3.4,1.5,0.4,...|     0|[-13.067815517720...|[0.81401635241747...|       0.0|\n",
      "|[5.4,3.9,1.7,0.4,...|     0|[-14.001027217130...|[0.84128242599085...|       0.0|\n",
      "|[4.9,2.4,3.3,1.0,...|     1|[-23.179190700193...|[0.00992443642727...|       1.0|\n",
      "|[5.7,2.8,4.1,1.3,...|     1|[-26.835130203273...|[0.00647002323525...|       1.0|\n",
      "|[5.7,2.8,4.5,1.3,...|     1|[-27.616020828860...|[0.00492238019122...|       1.0|\n",
      "|[5.8,2.7,4.1,1.0,...|     1|[-25.706577872920...|[0.00909238462926...|       1.0|\n",
      "+--------------------+------+--------------------+--------------------+----------+\n",
      "only showing top 20 rows\n",
      "\n",
      "Matriz de confusão\n",
      "[[16  0  0]\n",
      " [ 0  9  0]\n",
      " [ 0  1 16]]\n"
     ]
    }
   ],
   "source": [
    "#Criar modelo de classificação Naive Bayes\n",
    "nb = NaiveBayes(featuresCol='Features', labelCol='target')\n",
    "nb=nb.fit(train_data)\n",
    "\n",
    "#Predição e matriz de confusão\n",
    "y_pred = nb.transform(test_data)\n",
    "\n",
    "print('Predição')\n",
    "y_pred.show()\n",
    "\n",
    "print('Matriz de confusão')\n",
    "y_pred.groupBy('target', 'prediction').count()\n",
    "pred=y_pred.select(\"prediction\").collect()\n",
    "orig=y_pred.select(\"target\").collect()\n",
    "print(confusion_matrix(orig, pred))"
   ]
  },
  {
   "cell_type": "code",
   "execution_count": 11,
   "id": "2cf60a32-572b-403c-91d9-27b2de05e6c8",
   "metadata": {},
   "outputs": [
    {
     "data": {
      "text/plain": [
       "0.9764562922457659"
      ]
     },
     "execution_count": 11,
     "metadata": {},
     "output_type": "execute_result"
    }
   ],
   "source": [
    "#Construir avaliador e exibir a acurácia\n",
    "evaluator = MulticlassClassificationEvaluator(labelCol='target', predictionCol='prediction')\n",
    "accuracy = evaluator.evaluate(y_pred)\n",
    "accuracy"
   ]
  },
  {
   "cell_type": "code",
   "execution_count": 12,
   "id": "292f95ec-69db-4cae-997a-46404fb5b0f3",
   "metadata": {},
   "outputs": [
    {
     "data": {
      "image/png": "[encoded data removed]",
      "text/plain": [
       "<Figure size 640x480 with 1 Axes>"
      ]
     },
     "metadata": {},
     "output_type": "display_data"
    }
   ],
   "source": [
    "#Construir visualizações\n",
    "\n",
    "#Montar dataset pandas\n",
    "pandas_df = iris.toPandas()\n",
    "\n",
    "#Gráfico de dispersão de altura e largura da sepa\n",
    "plt.scatter(pandas_df['sepal length (cm)'], pandas_df['sepal width (cm)'], c=pandas_df['target'])\n",
    "plt.xlabel('comprimento da sepa (cm)')\n",
    "plt.ylabel('largura da sepa (cm)')\n",
    "plt.title('Scatter Plot de altura e largura da sepa')\n",
    "plt.show()"
   ]
  }
 ],
 "metadata": {
  "kernelspec": {
   "display_name": "Python 3 (ipykernel)",
   "language": "python",
   "name": "python3"
  },
  "language_info": {
   "codemirror_mode": {
    "name": "ipython",
    "version": 3
   },
   "file_extension": ".py",
   "mimetype": "text/x-python",
   "name": "python",
   "nbconvert_exporter": "python",
   "pygments_lexer": "ipython3",
   "version": "3.10.12"
  }
 },
 "nbformat": 4,
 "nbformat_minor": 5
}
